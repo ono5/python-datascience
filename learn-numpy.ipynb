{
 "cells": [
  {
   "cell_type": "code",
   "execution_count": 2,
   "id": "b94aea57",
   "metadata": {},
   "outputs": [],
   "source": [
    "import numpy as np\n",
    "import pandas as pd"
   ]
  },
  {
   "cell_type": "markdown",
   "id": "39f0038d",
   "metadata": {},
   "source": [
    "## ベクトルとブロードキャスト"
   ]
  },
  {
   "cell_type": "code",
   "execution_count": 3,
   "id": "d2b52c5e",
   "metadata": {},
   "outputs": [],
   "source": [
    "# ベクトル\n",
    "vec_1 = np.array([1, 5, 8, 13, 4])\n",
    "vec_2 = np.array([2, 3, 5, 10, 98])"
   ]
  },
  {
   "cell_type": "code",
   "execution_count": 4,
   "id": "908da4b7",
   "metadata": {},
   "outputs": [
    {
     "data": {
      "text/plain": [
       "array([ 1,  5,  8, 13,  4])"
      ]
     },
     "execution_count": 4,
     "metadata": {},
     "output_type": "execute_result"
    }
   ],
   "source": [
    "vec_1"
   ]
  },
  {
   "cell_type": "code",
   "execution_count": 5,
   "id": "50c2c193",
   "metadata": {},
   "outputs": [
    {
     "data": {
      "text/plain": [
       "array([ 2,  3,  5, 10, 98])"
      ]
     },
     "execution_count": 5,
     "metadata": {},
     "output_type": "execute_result"
    }
   ],
   "source": [
    "vec_2"
   ]
  },
  {
   "cell_type": "code",
   "execution_count": 6,
   "id": "df8b62fd",
   "metadata": {},
   "outputs": [
    {
     "data": {
      "text/plain": [
       "array([  3,   8,  13,  23, 102])"
      ]
     },
     "execution_count": 6,
     "metadata": {},
     "output_type": "execute_result"
    }
   ],
   "source": [
    "vec_1 + vec_2"
   ]
  },
  {
   "cell_type": "code",
   "execution_count": 7,
   "id": "407acf97",
   "metadata": {},
   "outputs": [
    {
     "data": {
      "text/plain": [
       "array([ -1,   2,   3,   3, -94])"
      ]
     },
     "execution_count": 7,
     "metadata": {},
     "output_type": "execute_result"
    }
   ],
   "source": [
    "vec_1 - vec_2"
   ]
  },
  {
   "cell_type": "code",
   "execution_count": 8,
   "id": "77cf41b3",
   "metadata": {},
   "outputs": [
    {
     "data": {
      "text/plain": [
       "array([  2,  15,  40, 130, 392])"
      ]
     },
     "execution_count": 8,
     "metadata": {},
     "output_type": "execute_result"
    }
   ],
   "source": [
    "vec_1 * vec_2"
   ]
  },
  {
   "cell_type": "code",
   "execution_count": 9,
   "id": "8098d6a7",
   "metadata": {},
   "outputs": [
    {
     "data": {
      "text/plain": [
       "array([0.5       , 1.66666667, 1.6       , 1.3       , 0.04081633])"
      ]
     },
     "execution_count": 9,
     "metadata": {},
     "output_type": "execute_result"
    }
   ],
   "source": [
    "vec_1 / vec_2"
   ]
  },
  {
   "cell_type": "code",
   "execution_count": 10,
   "id": "e48dca5d",
   "metadata": {},
   "outputs": [],
   "source": [
    "# ベクトル\n",
    "vec_1 = np.array([1, 5, 8, 13])\n",
    "vec_2 = np.array([2])\n",
    "vec_3 = np.array([2, 3])"
   ]
  },
  {
   "cell_type": "code",
   "execution_count": 11,
   "id": "5a4ebc3f",
   "metadata": {},
   "outputs": [
    {
     "data": {
      "text/plain": [
       "array([ 3,  7, 10, 15])"
      ]
     },
     "execution_count": 11,
     "metadata": {},
     "output_type": "execute_result"
    }
   ],
   "source": [
    "# ブロードキャスト --- 長さが足りない場合は、それを補う\n",
    "vec_1 + vec_2"
   ]
  },
  {
   "cell_type": "code",
   "execution_count": 12,
   "id": "a850aa08",
   "metadata": {},
   "outputs": [
    {
     "ename": "ValueError",
     "evalue": "operands could not be broadcast together with shapes (4,) (2,) ",
     "output_type": "error",
     "traceback": [
      "\u001b[0;31m---------------------------------------------------------------------------\u001b[0m",
      "\u001b[0;31mValueError\u001b[0m                                Traceback (most recent call last)",
      "Input \u001b[0;32mIn [12]\u001b[0m, in \u001b[0;36m<cell line: 2>\u001b[0;34m()\u001b[0m\n\u001b[1;32m      1\u001b[0m \u001b[38;5;66;03m# ブロードキャスト --- 長さが足りない要素は必ずリストが1でなければならない\u001b[39;00m\n\u001b[0;32m----> 2\u001b[0m \u001b[43mvec_1\u001b[49m\u001b[43m \u001b[49m\u001b[38;5;241;43m+\u001b[39;49m\u001b[43m \u001b[49m\u001b[43mvec_3\u001b[49m\n",
      "\u001b[0;31mValueError\u001b[0m: operands could not be broadcast together with shapes (4,) (2,) "
     ]
    }
   ],
   "source": [
    "# ブロードキャスト --- 長さが足りない要素は必ずリストが1でなければならない\n",
    "vec_1 + vec_3"
   ]
  },
  {
   "cell_type": "code",
   "execution_count": null,
   "id": "171d7e9d",
   "metadata": {},
   "outputs": [],
   "source": [
    "# 普通の数でもOK\n",
    "vec_1 + 1"
   ]
  },
  {
   "cell_type": "markdown",
   "id": "559abb7e",
   "metadata": {},
   "source": [
    "## ベクトルの要素抽出"
   ]
  },
  {
   "cell_type": "code",
   "execution_count": 13,
   "id": "f6193c1b",
   "metadata": {},
   "outputs": [],
   "source": [
    "vec_1 = np.array([1, 5, 8, 13, 4])"
   ]
  },
  {
   "cell_type": "code",
   "execution_count": 14,
   "id": "024c2fd3",
   "metadata": {},
   "outputs": [
    {
     "data": {
      "text/plain": [
       "4"
      ]
     },
     "execution_count": 14,
     "metadata": {},
     "output_type": "execute_result"
    }
   ],
   "source": [
    "# インデックス4を抽出\n",
    "vec_1[4]"
   ]
  },
  {
   "cell_type": "code",
   "execution_count": 15,
   "id": "b2734a58",
   "metadata": {},
   "outputs": [
    {
     "data": {
      "text/plain": [
       "array([ 5,  8, 13])"
      ]
     },
     "execution_count": 15,
     "metadata": {},
     "output_type": "execute_result"
    }
   ],
   "source": [
    "# インデックス1 ~ 3を抽出\n",
    "vec_1[1:4]"
   ]
  },
  {
   "cell_type": "code",
   "execution_count": 16,
   "id": "bf0d27d6",
   "metadata": {},
   "outputs": [],
   "source": [
    "# 論理値ベクトル\n",
    "vec_bool = np.array([True, False, True, True, False])"
   ]
  },
  {
   "cell_type": "code",
   "execution_count": 17,
   "id": "453314f8",
   "metadata": {},
   "outputs": [
    {
     "data": {
      "text/plain": [
       "array([ 1,  8, 13])"
      ]
     },
     "execution_count": 17,
     "metadata": {},
     "output_type": "execute_result"
    }
   ],
   "source": [
    "# 論理値ベクトルが Trueのところ(インデックス0, 2, 3)を抽出\n",
    "vec_1[vec_bool]"
   ]
  },
  {
   "cell_type": "code",
   "execution_count": 18,
   "id": "f9bdfa28",
   "metadata": {},
   "outputs": [
    {
     "data": {
      "text/plain": [
       "array([ 5,  8, 13])"
      ]
     },
     "execution_count": 18,
     "metadata": {},
     "output_type": "execute_result"
    }
   ],
   "source": [
    "# 論理値ベクトルはとある条件のとき、〇〇をするといった感じで使われる\n",
    "# 5以上の要素を抽出\n",
    "vec_1[vec_1 >= 5]"
   ]
  },
  {
   "cell_type": "code",
   "execution_count": 19,
   "id": "fef91fc3",
   "metadata": {},
   "outputs": [
    {
     "data": {
      "text/plain": [
       "array([False, False,  True,  True, False])"
      ]
     },
     "execution_count": 19,
     "metadata": {},
     "output_type": "execute_result"
    }
   ],
   "source": [
    "vec_1 > 5"
   ]
  },
  {
   "cell_type": "markdown",
   "id": "664c0556",
   "metadata": {},
   "source": [
    "## ベクトルの便利い函数"
   ]
  },
  {
   "cell_type": "code",
   "execution_count": 20,
   "id": "55f0d0fc",
   "metadata": {},
   "outputs": [
    {
     "data": {
      "text/plain": [
       "31"
      ]
     },
     "execution_count": 20,
     "metadata": {},
     "output_type": "execute_result"
    }
   ],
   "source": [
    "# ベクトルの総和\n",
    "np.sum(vec_1)"
   ]
  },
  {
   "cell_type": "code",
   "execution_count": 21,
   "id": "bea16482",
   "metadata": {},
   "outputs": [
    {
     "data": {
      "text/plain": [
       "6.2"
      ]
     },
     "execution_count": 21,
     "metadata": {},
     "output_type": "execute_result"
    }
   ],
   "source": [
    "# ベクトルの平均\n",
    "np.average(vec_1)"
   ]
  },
  {
   "cell_type": "code",
   "execution_count": 23,
   "id": "f8e607b6",
   "metadata": {},
   "outputs": [
    {
     "data": {
      "text/plain": [
       "5.0"
      ]
     },
     "execution_count": 23,
     "metadata": {},
     "output_type": "execute_result"
    }
   ],
   "source": [
    "# ベクトルの中央値(ベクトルを小さい順に並べた時に真ん中にくる数をさす)\n",
    "np.median(vec_1)"
   ]
  },
  {
   "cell_type": "code",
   "execution_count": 24,
   "id": "60d2cb56",
   "metadata": {},
   "outputs": [
    {
     "data": {
      "text/plain": [
       "13"
      ]
     },
     "execution_count": 24,
     "metadata": {},
     "output_type": "execute_result"
    }
   ],
   "source": [
    "# 最大値\n",
    "np.max(vec_1)"
   ]
  },
  {
   "cell_type": "code",
   "execution_count": 25,
   "id": "4f7f5146",
   "metadata": {},
   "outputs": [
    {
     "data": {
      "text/plain": [
       "1"
      ]
     },
     "execution_count": 25,
     "metadata": {},
     "output_type": "execute_result"
    }
   ],
   "source": [
    "# 最小値\n",
    "np.min(vec_1)"
   ]
  },
  {
   "cell_type": "code",
   "execution_count": 27,
   "id": "77f69632",
   "metadata": {},
   "outputs": [
    {
     "data": {
      "text/plain": [
       "16.56"
      ]
     },
     "execution_count": 27,
     "metadata": {},
     "output_type": "execute_result"
    }
   ],
   "source": [
    "# 分散(データのばらつき)\n",
    "np.var(vec_1)"
   ]
  },
  {
   "cell_type": "code",
   "execution_count": 29,
   "id": "730db1ea",
   "metadata": {},
   "outputs": [
    {
     "data": {
      "text/plain": [
       "4.069397989875161"
      ]
     },
     "execution_count": 29,
     "metadata": {},
     "output_type": "execute_result"
    }
   ],
   "source": [
    "# 標準偏差(分散にルートをとったもの)\n",
    "np.std(vec_1)"
   ]
  },
  {
   "cell_type": "code",
   "execution_count": 30,
   "id": "a9baf0fb",
   "metadata": {},
   "outputs": [
    {
     "data": {
      "text/plain": [
       "array([ True, False,  True,  True, False])"
      ]
     },
     "execution_count": 30,
     "metadata": {},
     "output_type": "execute_result"
    }
   ],
   "source": [
    "# 論理値ベクトル\n",
    "vec_bool"
   ]
  },
  {
   "cell_type": "code",
   "execution_count": 33,
   "id": "8d5ac140",
   "metadata": {},
   "outputs": [
    {
     "name": "stdout",
     "output_type": "stream",
     "text": [
      "TRUEの総和 = 3\n"
     ]
    }
   ],
   "source": [
    "# np.sumでTRUEの個数を算出\n",
    "print(f'TRUEの総和 = {np.sum(vec_bool)}')"
   ]
  },
  {
   "cell_type": "code",
   "execution_count": 34,
   "id": "763f547b",
   "metadata": {},
   "outputs": [
    {
     "name": "stdout",
     "output_type": "stream",
     "text": [
      "TRUEの割合 = 0.6\n"
     ]
    }
   ],
   "source": [
    "# np.averageでTRUEの割合を算出\n",
    "print(f'TRUEの割合 = {np.average(vec_bool)}')"
   ]
  },
  {
   "cell_type": "markdown",
   "id": "65fd20e4",
   "metadata": {},
   "source": [
    "## 規則的なベクトルの作成"
   ]
  },
  {
   "cell_type": "code",
   "execution_count": 35,
   "id": "7ee45606",
   "metadata": {},
   "outputs": [
    {
     "data": {
      "text/plain": [
       "array([ 1,  2,  3,  4,  5,  6,  7,  8,  9, 10])"
      ]
     },
     "execution_count": 35,
     "metadata": {},
     "output_type": "execute_result"
    }
   ],
   "source": [
    "# 1から10までの等差1の等差ベクトル(等差 = 隣り合う数値の差)\n",
    "np.arange(1, 11, 1)"
   ]
  },
  {
   "cell_type": "code",
   "execution_count": 37,
   "id": "9c76405b",
   "metadata": {},
   "outputs": [
    {
     "data": {
      "text/plain": [
       "array([ 1.,  4.,  7., 10.])"
      ]
     },
     "execution_count": 37,
     "metadata": {},
     "output_type": "execute_result"
    }
   ],
   "source": [
    "# 1から10までの長さ4の等差ベクトル\n",
    "np.linspace(1, 10, 4)"
   ]
  },
  {
   "cell_type": "code",
   "execution_count": 38,
   "id": "1a7e4256",
   "metadata": {},
   "outputs": [
    {
     "data": {
      "text/plain": [
       "array([1, 1, 1])"
      ]
     },
     "execution_count": 38,
     "metadata": {},
     "output_type": "execute_result"
    }
   ],
   "source": [
    "# 1を3回繰り返す\n",
    "np.repeat(1,3)"
   ]
  },
  {
   "cell_type": "code",
   "execution_count": 39,
   "id": "581c92e6",
   "metadata": {},
   "outputs": [
    {
     "data": {
      "text/plain": [
       "array([1, 1, 1, 2, 2, 2])"
      ]
     },
     "execution_count": 39,
     "metadata": {},
     "output_type": "execute_result"
    }
   ],
   "source": [
    "# 1を3回、2を3回繰り返す\n",
    "np.repeat(np.array([1,2]), 3)"
   ]
  },
  {
   "cell_type": "code",
   "execution_count": 40,
   "id": "86a21ccd",
   "metadata": {},
   "outputs": [
    {
     "data": {
      "text/plain": [
       "array([1, 1, 1])"
      ]
     },
     "execution_count": 40,
     "metadata": {},
     "output_type": "execute_result"
    }
   ],
   "source": [
    "# 1を3回繰り返す\n",
    "np.tile(1,3)"
   ]
  },
  {
   "cell_type": "code",
   "execution_count": 41,
   "id": "3415a4b5",
   "metadata": {},
   "outputs": [
    {
     "data": {
      "text/plain": [
       "array([1, 2, 1, 2, 1, 2])"
      ]
     },
     "execution_count": 41,
     "metadata": {},
     "output_type": "execute_result"
    }
   ],
   "source": [
    "# 1を3回、2を3回繰り返す\n",
    "np.tile(np.array([1,2]), 3)"
   ]
  },
  {
   "cell_type": "markdown",
   "id": "053a6846",
   "metadata": {},
   "source": [
    "## 論理値ベクトルの作成方法"
   ]
  },
  {
   "cell_type": "markdown",
   "id": "c28ccc9a",
   "metadata": {},
   "source": [
    "### 条件を満たしたかどうかでTRUEとFALSEを判定し、その判定結果を論理値ベクトルとする"
   ]
  },
  {
   "cell_type": "code",
   "execution_count": 45,
   "id": "afb14cb7",
   "metadata": {},
   "outputs": [],
   "source": [
    "# ベクトル\n",
    "x = np.arange(1, 11, 1)\n",
    "y = np.array([1, 7, 4, 6, 2])\n",
    "y_2 = np.tile(y, 2)"
   ]
  },
  {
   "cell_type": "code",
   "execution_count": 46,
   "id": "144e24fe",
   "metadata": {},
   "outputs": [
    {
     "data": {
      "text/plain": [
       "array([ True, False, False, False, False, False,  True, False, False,\n",
       "       False])"
      ]
     },
     "execution_count": 46,
     "metadata": {},
     "output_type": "execute_result"
    }
   ],
   "source": [
    "# xとy_2は等しいか\n",
    "x == y_2"
   ]
  },
  {
   "cell_type": "code",
   "execution_count": 47,
   "id": "63bd2b15",
   "metadata": {},
   "outputs": [
    {
     "data": {
      "text/plain": [
       "array([False,  True,  True,  True,  True,  True, False,  True,  True,\n",
       "        True])"
      ]
     },
     "execution_count": 47,
     "metadata": {},
     "output_type": "execute_result"
    }
   ],
   "source": [
    "# xとy_2は等しくないか\n",
    "x != y_2"
   ]
  },
  {
   "cell_type": "code",
   "execution_count": 48,
   "id": "d6e0ff4b",
   "metadata": {},
   "outputs": [
    {
     "data": {
      "text/plain": [
       "array([ True, False, False, False,  True,  True,  True,  True,  True,\n",
       "        True])"
      ]
     },
     "execution_count": 48,
     "metadata": {},
     "output_type": "execute_result"
    }
   ],
   "source": [
    "# xとy_2以上か?\n",
    "x >= y_2"
   ]
  },
  {
   "cell_type": "code",
   "execution_count": 49,
   "id": "d0fd4fa8",
   "metadata": {},
   "outputs": [
    {
     "data": {
      "text/plain": [
       "array([ True,  True, False,  True, False,  True,  True, False, False,\n",
       "       False])"
      ]
     },
     "execution_count": 49,
     "metadata": {},
     "output_type": "execute_result"
    }
   ],
   "source": [
    "# xはyに含まれるか?\n",
    "np.isin(x,y)"
   ]
  },
  {
   "cell_type": "markdown",
   "id": "815ce3c9",
   "metadata": {},
   "source": [
    "## 論理値ベクトルの計算"
   ]
  },
  {
   "cell_type": "code",
   "execution_count": 50,
   "id": "d71e2592",
   "metadata": {},
   "outputs": [],
   "source": [
    "# キャベツのサイズを示したベクトル\n",
    "vec_size = np.array([7, 13, 5, 25, 38, 57, 18, 9, 32, 28])"
   ]
  },
  {
   "cell_type": "code",
   "execution_count": 53,
   "id": "9d7fc644",
   "metadata": {},
   "outputs": [],
   "source": [
    "# サイズは10以上か?\n",
    "vec_bool_1 = vec_size >= 10\n",
    "\n",
    "# サイズは30以下か\n",
    "vec_bool_2 = vec_size <= 30"
   ]
  },
  {
   "cell_type": "code",
   "execution_count": 59,
   "id": "9c7d9cb6",
   "metadata": {},
   "outputs": [
    {
     "data": {
      "text/plain": [
       "array([False,  True, False,  True,  True,  True,  True, False,  True,\n",
       "        True])"
      ]
     },
     "execution_count": 59,
     "metadata": {},
     "output_type": "execute_result"
    }
   ],
   "source": [
    "vec_bool_1"
   ]
  },
  {
   "cell_type": "code",
   "execution_count": 60,
   "id": "c254671c",
   "metadata": {},
   "outputs": [
    {
     "data": {
      "text/plain": [
       "array([ True,  True,  True,  True, False, False,  True,  True, False,\n",
       "        True])"
      ]
     },
     "execution_count": 60,
     "metadata": {},
     "output_type": "execute_result"
    }
   ],
   "source": [
    "vec_bool_2"
   ]
  },
  {
   "cell_type": "code",
   "execution_count": 63,
   "id": "a89c1129",
   "metadata": {},
   "outputs": [
    {
     "data": {
      "text/plain": [
       "array([False,  True, False,  True, False, False,  True, False, False,\n",
       "        True])"
      ]
     },
     "execution_count": 63,
     "metadata": {},
     "output_type": "execute_result"
    }
   ],
   "source": [
    "# AND\n",
    "vec_bool_1 & vec_bool_2"
   ]
  },
  {
   "cell_type": "code",
   "execution_count": 64,
   "id": "f84ffb72",
   "metadata": {},
   "outputs": [
    {
     "data": {
      "text/plain": [
       "array([ True,  True,  True,  True,  True,  True,  True,  True,  True,\n",
       "        True])"
      ]
     },
     "execution_count": 64,
     "metadata": {},
     "output_type": "execute_result"
    }
   ],
   "source": [
    "# OR\n",
    "vec_bool_1 | vec_bool_2"
   ]
  },
  {
   "cell_type": "code",
   "execution_count": 66,
   "id": "04492054",
   "metadata": {},
   "outputs": [
    {
     "data": {
      "text/plain": [
       "array([ True, False,  True, False,  True,  True, False,  True,  True,\n",
       "       False])"
      ]
     },
     "execution_count": 66,
     "metadata": {},
     "output_type": "execute_result"
    }
   ],
   "source": [
    "# XOR\n",
    "vec_bool_1 ^ vec_bool_2"
   ]
  },
  {
   "cell_type": "code",
   "execution_count": null,
   "id": "4b3bbfd0",
   "metadata": {},
   "outputs": [],
   "source": [
    "# NOT\n",
    "vec_bool_1  vec_bool_2"
   ]
  }
 ],
 "metadata": {
  "kernelspec": {
   "display_name": "Python 3 (ipykernel)",
   "language": "python",
   "name": "python3"
  },
  "language_info": {
   "codemirror_mode": {
    "name": "ipython",
    "version": 3
   },
   "file_extension": ".py",
   "mimetype": "text/x-python",
   "name": "python",
   "nbconvert_exporter": "python",
   "pygments_lexer": "ipython3",
   "version": "3.10.4"
  }
 },
 "nbformat": 4,
 "nbformat_minor": 5
}

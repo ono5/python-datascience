{
 "cells": [
  {
   "cell_type": "code",
   "execution_count": 2,
   "id": "b94aea57",
   "metadata": {},
   "outputs": [],
   "source": [
    "import numpy as np\n",
    "import pandas as pd"
   ]
  },
  {
   "cell_type": "markdown",
   "id": "39f0038d",
   "metadata": {},
   "source": [
    "## ベクトルとブロードキャスト"
   ]
  },
  {
   "cell_type": "code",
   "execution_count": 3,
   "id": "d2b52c5e",
   "metadata": {},
   "outputs": [],
   "source": [
    "# ベクトル\n",
    "vec_1 = np.array([1, 5, 8, 13, 4])\n",
    "vec_2 = np.array([2, 3, 5, 10, 98])"
   ]
  },
  {
   "cell_type": "code",
   "execution_count": 4,
   "id": "908da4b7",
   "metadata": {},
   "outputs": [
    {
     "data": {
      "text/plain": [
       "array([ 1,  5,  8, 13,  4])"
      ]
     },
     "execution_count": 4,
     "metadata": {},
     "output_type": "execute_result"
    }
   ],
   "source": [
    "vec_1"
   ]
  },
  {
   "cell_type": "code",
   "execution_count": 5,
   "id": "50c2c193",
   "metadata": {},
   "outputs": [
    {
     "data": {
      "text/plain": [
       "array([ 2,  3,  5, 10, 98])"
      ]
     },
     "execution_count": 5,
     "metadata": {},
     "output_type": "execute_result"
    }
   ],
   "source": [
    "vec_2"
   ]
  },
  {
   "cell_type": "code",
   "execution_count": 6,
   "id": "df8b62fd",
   "metadata": {},
   "outputs": [
    {
     "data": {
      "text/plain": [
       "array([  3,   8,  13,  23, 102])"
      ]
     },
     "execution_count": 6,
     "metadata": {},
     "output_type": "execute_result"
    }
   ],
   "source": [
    "vec_1 + vec_2"
   ]
  },
  {
   "cell_type": "code",
   "execution_count": 7,
   "id": "407acf97",
   "metadata": {},
   "outputs": [
    {
     "data": {
      "text/plain": [
       "array([ -1,   2,   3,   3, -94])"
      ]
     },
     "execution_count": 7,
     "metadata": {},
     "output_type": "execute_result"
    }
   ],
   "source": [
    "vec_1 - vec_2"
   ]
  },
  {
   "cell_type": "code",
   "execution_count": 8,
   "id": "77cf41b3",
   "metadata": {},
   "outputs": [
    {
     "data": {
      "text/plain": [
       "array([  2,  15,  40, 130, 392])"
      ]
     },
     "execution_count": 8,
     "metadata": {},
     "output_type": "execute_result"
    }
   ],
   "source": [
    "vec_1 * vec_2"
   ]
  },
  {
   "cell_type": "code",
   "execution_count": 9,
   "id": "8098d6a7",
   "metadata": {},
   "outputs": [
    {
     "data": {
      "text/plain": [
       "array([0.5       , 1.66666667, 1.6       , 1.3       , 0.04081633])"
      ]
     },
     "execution_count": 9,
     "metadata": {},
     "output_type": "execute_result"
    }
   ],
   "source": [
    "vec_1 / vec_2"
   ]
  },
  {
   "cell_type": "code",
   "execution_count": 10,
   "id": "e48dca5d",
   "metadata": {},
   "outputs": [],
   "source": [
    "# ベクトル\n",
    "vec_1 = np.array([1, 5, 8, 13])\n",
    "vec_2 = np.array([2])\n",
    "vec_3 = np.array([2, 3])"
   ]
  },
  {
   "cell_type": "code",
   "execution_count": 11,
   "id": "5a4ebc3f",
   "metadata": {},
   "outputs": [
    {
     "data": {
      "text/plain": [
       "array([ 3,  7, 10, 15])"
      ]
     },
     "execution_count": 11,
     "metadata": {},
     "output_type": "execute_result"
    }
   ],
   "source": [
    "# ブロードキャスト --- 長さが足りない場合は、それを補う\n",
    "vec_1 + vec_2"
   ]
  },
  {
   "cell_type": "code",
   "execution_count": 12,
   "id": "a850aa08",
   "metadata": {},
   "outputs": [
    {
     "ename": "ValueError",
     "evalue": "operands could not be broadcast together with shapes (4,) (2,) ",
     "output_type": "error",
     "traceback": [
      "\u001b[0;31m---------------------------------------------------------------------------\u001b[0m",
      "\u001b[0;31mValueError\u001b[0m                                Traceback (most recent call last)",
      "Input \u001b[0;32mIn [12]\u001b[0m, in \u001b[0;36m<cell line: 2>\u001b[0;34m()\u001b[0m\n\u001b[1;32m      1\u001b[0m \u001b[38;5;66;03m# ブロードキャスト --- 長さが足りない要素は必ずリストが1でなければならない\u001b[39;00m\n\u001b[0;32m----> 2\u001b[0m \u001b[43mvec_1\u001b[49m\u001b[43m \u001b[49m\u001b[38;5;241;43m+\u001b[39;49m\u001b[43m \u001b[49m\u001b[43mvec_3\u001b[49m\n",
      "\u001b[0;31mValueError\u001b[0m: operands could not be broadcast together with shapes (4,) (2,) "
     ]
    }
   ],
   "source": [
    "# ブロードキャスト --- 長さが足りない要素は必ずリストが1でなければならない\n",
    "vec_1 + vec_3"
   ]
  },
  {
   "cell_type": "code",
   "execution_count": null,
   "id": "171d7e9d",
   "metadata": {},
   "outputs": [],
   "source": [
    "# 普通の数でもOK\n",
    "vec_1 + 1"
   ]
  },
  {
   "cell_type": "markdown",
   "id": "559abb7e",
   "metadata": {},
   "source": [
    "## ベクトルの要素抽出"
   ]
  },
  {
   "cell_type": "code",
   "execution_count": 13,
   "id": "f6193c1b",
   "metadata": {},
   "outputs": [],
   "source": [
    "vec_1 = np.array([1, 5, 8, 13, 4])"
   ]
  },
  {
   "cell_type": "code",
   "execution_count": 14,
   "id": "024c2fd3",
   "metadata": {},
   "outputs": [
    {
     "data": {
      "text/plain": [
       "4"
      ]
     },
     "execution_count": 14,
     "metadata": {},
     "output_type": "execute_result"
    }
   ],
   "source": [
    "# インデックス4を抽出\n",
    "vec_1[4]"
   ]
  },
  {
   "cell_type": "code",
   "execution_count": 15,
   "id": "b2734a58",
   "metadata": {},
   "outputs": [
    {
     "data": {
      "text/plain": [
       "array([ 5,  8, 13])"
      ]
     },
     "execution_count": 15,
     "metadata": {},
     "output_type": "execute_result"
    }
   ],
   "source": [
    "# インデックス1 ~ 3を抽出\n",
    "vec_1[1:4]"
   ]
  },
  {
   "cell_type": "code",
   "execution_count": 16,
   "id": "bf0d27d6",
   "metadata": {},
   "outputs": [],
   "source": [
    "# 論理値ベクトル\n",
    "vec_bool = np.array([True, False, True, True, False])"
   ]
  },
  {
   "cell_type": "code",
   "execution_count": 17,
   "id": "453314f8",
   "metadata": {},
   "outputs": [
    {
     "data": {
      "text/plain": [
       "array([ 1,  8, 13])"
      ]
     },
     "execution_count": 17,
     "metadata": {},
     "output_type": "execute_result"
    }
   ],
   "source": [
    "# 論理値ベクトルが Trueのところ(インデックス0, 2, 3)を抽出\n",
    "vec_1[vec_bool]"
   ]
  },
  {
   "cell_type": "code",
   "execution_count": 18,
   "id": "f9bdfa28",
   "metadata": {},
   "outputs": [
    {
     "data": {
      "text/plain": [
       "array([ 5,  8, 13])"
      ]
     },
     "execution_count": 18,
     "metadata": {},
     "output_type": "execute_result"
    }
   ],
   "source": [
    "# 論理値ベクトルはとある条件のとき、〇〇をするといった感じで使われる\n",
    "# 5以上の要素を抽出\n",
    "vec_1[vec_1 >= 5]"
   ]
  },
  {
   "cell_type": "code",
   "execution_count": 19,
   "id": "fef91fc3",
   "metadata": {},
   "outputs": [
    {
     "data": {
      "text/plain": [
       "array([False, False,  True,  True, False])"
      ]
     },
     "execution_count": 19,
     "metadata": {},
     "output_type": "execute_result"
    }
   ],
   "source": [
    "vec_1 > 5"
   ]
  },
  {
   "cell_type": "markdown",
   "id": "54628355",
   "metadata": {},
   "source": [
    "## ベクトルの便利い函数"
   ]
  },
  {
   "cell_type": "code",
   "execution_count": 20,
   "id": "e9636bc8",
   "metadata": {},
   "outputs": [
    {
     "data": {
      "text/plain": [
       "31"
      ]
     },
     "execution_count": 20,
     "metadata": {},
     "output_type": "execute_result"
    }
   ],
   "source": [
    "# ベクトルの総和\n",
    "np.sum(vec_1)"
   ]
  },
  {
   "cell_type": "code",
   "execution_count": 21,
   "id": "832b4611",
   "metadata": {},
   "outputs": [
    {
     "data": {
      "text/plain": [
       "6.2"
      ]
     },
     "execution_count": 21,
     "metadata": {},
     "output_type": "execute_result"
    }
   ],
   "source": [
    "# ベクトルの平均\n",
    "np.average(vec_1)"
   ]
  },
  {
   "cell_type": "code",
   "execution_count": 23,
   "id": "3e8f7d92",
   "metadata": {},
   "outputs": [
    {
     "data": {
      "text/plain": [
       "5.0"
      ]
     },
     "execution_count": 23,
     "metadata": {},
     "output_type": "execute_result"
    }
   ],
   "source": [
    "# ベクトルの中央値(ベクトルを小さい順に並べた時に真ん中にくる数をさす)\n",
    "np.median(vec_1)"
   ]
  },
  {
   "cell_type": "code",
   "execution_count": 24,
   "id": "8a3a4adb",
   "metadata": {},
   "outputs": [
    {
     "data": {
      "text/plain": [
       "13"
      ]
     },
     "execution_count": 24,
     "metadata": {},
     "output_type": "execute_result"
    }
   ],
   "source": [
    "# 最大値\n",
    "np.max(vec_1)"
   ]
  },
  {
   "cell_type": "code",
   "execution_count": 25,
   "id": "f43f1ef8",
   "metadata": {},
   "outputs": [
    {
     "data": {
      "text/plain": [
       "1"
      ]
     },
     "execution_count": 25,
     "metadata": {},
     "output_type": "execute_result"
    }
   ],
   "source": [
    "# 最小値\n",
    "np.min(vec_1)"
   ]
  },
  {
   "cell_type": "code",
   "execution_count": 27,
   "id": "00a92106",
   "metadata": {},
   "outputs": [
    {
     "data": {
      "text/plain": [
       "16.56"
      ]
     },
     "execution_count": 27,
     "metadata": {},
     "output_type": "execute_result"
    }
   ],
   "source": [
    "# 分散(データのばらつき)\n",
    "np.var(vec_1)"
   ]
  },
  {
   "cell_type": "code",
   "execution_count": 29,
   "id": "08f3413f",
   "metadata": {},
   "outputs": [
    {
     "data": {
      "text/plain": [
       "4.069397989875161"
      ]
     },
     "execution_count": 29,
     "metadata": {},
     "output_type": "execute_result"
    }
   ],
   "source": [
    "# 標準偏差(分散にルートをとったもの)\n",
    "np.std(vec_1)"
   ]
  },
  {
   "cell_type": "code",
   "execution_count": 30,
   "id": "478fe172",
   "metadata": {},
   "outputs": [
    {
     "data": {
      "text/plain": [
       "array([ True, False,  True,  True, False])"
      ]
     },
     "execution_count": 30,
     "metadata": {},
     "output_type": "execute_result"
    }
   ],
   "source": [
    "# 論理値ベクトル\n",
    "vec_bool"
   ]
  },
  {
   "cell_type": "code",
   "execution_count": 33,
   "id": "8e0ee2f0",
   "metadata": {},
   "outputs": [
    {
     "name": "stdout",
     "output_type": "stream",
     "text": [
      "TRUEの総和 = 3\n"
     ]
    }
   ],
   "source": [
    "# np.sumでTRUEの個数を算出\n",
    "print(f'TRUEの総和 = {np.sum(vec_bool)}')"
   ]
  },
  {
   "cell_type": "code",
   "execution_count": 34,
   "id": "8a1db380",
   "metadata": {},
   "outputs": [
    {
     "name": "stdout",
     "output_type": "stream",
     "text": [
      "TRUEの割合 = 0.6\n"
     ]
    }
   ],
   "source": [
    "# np.averageでTRUEの割合を算出\n",
    "print(f'TRUEの割合 = {np.average(vec_bool)}')"
   ]
  },
  {
   "cell_type": "markdown",
   "id": "03be3f1e",
   "metadata": {},
   "source": [
    "## 規則的なベクトルの作成"
   ]
  },
  {
   "cell_type": "code",
   "execution_count": 35,
   "id": "291468ab",
   "metadata": {},
   "outputs": [
    {
     "data": {
      "text/plain": [
       "array([ 1,  2,  3,  4,  5,  6,  7,  8,  9, 10])"
      ]
     },
     "execution_count": 35,
     "metadata": {},
     "output_type": "execute_result"
    }
   ],
   "source": [
    "# 1から10までの等差1の等差ベクトル(等差 = 隣り合う数値の差)\n",
    "np.arange(1, 11, 1)"
   ]
  },
  {
   "cell_type": "code",
   "execution_count": null,
   "id": "4f909315",
   "metadata": {},
   "outputs": [],
   "source": [
    "# 1から10までの長さ4の等差ベクトル"
   ]
  }
 ],
 "metadata": {
  "kernelspec": {
   "display_name": "Python 3 (ipykernel)",
   "language": "python",
   "name": "python3"
  },
  "language_info": {
   "codemirror_mode": {
    "name": "ipython",
    "version": 3
   },
   "file_extension": ".py",
   "mimetype": "text/x-python",
   "name": "python",
   "nbconvert_exporter": "python",
   "pygments_lexer": "ipython3",
   "version": "3.10.4"
  }
 },
 "nbformat": 4,
 "nbformat_minor": 5
}

{
 "cells": [
  {
   "cell_type": "markdown",
   "id": "bbc56b20",
   "metadata": {},
   "source": [
    "# 問1\n",
    "要件を満たす関数を作成し、 を引数に与えた時の出力値を選択せよ。\n",
    "\n",
    "画像は count という名前で関数を作成し、長さが 5 の整数のリストを引数に取った場合の例です。data というリストを count という関数に渡して、2 という出力が得られているため、この場合は 2 を選択します。\n",
    "\n",
    "\n",
    "整数が複数個格納されたリストを関数の引数にとる。\n",
    "\n",
    "関数は引数として与えられたリスト内の整数について「3 では割り切れるが、5 では割り切れない整数」の個数をカウントする"
   ]
  },
  {
   "cell_type": "code",
   "execution_count": 4,
   "id": "04fda162",
   "metadata": {},
   "outputs": [],
   "source": [
    "# &だと何故かうまくいかない\n",
    "def count(data: list) -> int:\n",
    "    count = 0\n",
    "    for d in data:\n",
    "        if (d % 3 == 0) and (d % 5) != 0:\n",
    "            count += 1\n",
    "    return count"
   ]
  },
  {
   "cell_type": "code",
   "execution_count": 2,
   "id": "6a46338a",
   "metadata": {},
   "outputs": [
    {
     "name": "stdout",
     "output_type": "stream",
     "text": [
      "2\n"
     ]
    }
   ],
   "source": [
    "data = [15, 4, 27, 29, 9]\n",
    "print(count(data))"
   ]
  },
  {
   "cell_type": "code",
   "execution_count": 3,
   "id": "9165256a",
   "metadata": {},
   "outputs": [
    {
     "name": "stdout",
     "output_type": "stream",
     "text": [
      "5\n"
     ]
    }
   ],
   "source": [
    "x = [48, 240, 557, 185, 655, 475, 250, 177, 132, 598, 979, 479, 748, 672, 558]\n",
    "print(count(x))"
   ]
  },
  {
   "cell_type": "markdown",
   "id": "64c80b2c",
   "metadata": {},
   "source": [
    "# 問2\n",
    "以下のデータセットから、要件を満たすサンプルの製造年を整数（小数第一位を四捨五入）で答えなさい。\n",
    "\n",
    "データセット：auto_mpg.csv（データセットの詳細については「 Pandas と Matplotlib の基礎」を参照してください。）\n",
    "\n",
    "下記条件を両方満たすこと\n",
    "\n",
    "製造国（変数名：Origin） がアメリカ (1) ではない\n",
    "\n",
    "重量（変数名：Weight）が 3000 より大きい\n",
    "\n",
    "条件を満たすものが複数ある場合は、もっとも燃費効率（変数名：MPG）が小さいサンプルについて解答すること"
   ]
  },
  {
   "cell_type": "code",
   "execution_count": 5,
   "id": "50443b24",
   "metadata": {},
   "outputs": [],
   "source": [
    "import pandas as pd"
   ]
  },
  {
   "cell_type": "code",
   "execution_count": 6,
   "id": "e8301b49",
   "metadata": {},
   "outputs": [
    {
     "data": {
      "text/html": [
       "<div>\n",
       "<style scoped>\n",
       "    .dataframe tbody tr th:only-of-type {\n",
       "        vertical-align: middle;\n",
       "    }\n",
       "\n",
       "    .dataframe tbody tr th {\n",
       "        vertical-align: top;\n",
       "    }\n",
       "\n",
       "    .dataframe thead th {\n",
       "        text-align: right;\n",
       "    }\n",
       "</style>\n",
       "<table border=\"1\" class=\"dataframe\">\n",
       "  <thead>\n",
       "    <tr style=\"text-align: right;\">\n",
       "      <th></th>\n",
       "      <th>MPG</th>\n",
       "      <th>Cylinders</th>\n",
       "      <th>Displacement</th>\n",
       "      <th>Horsepower</th>\n",
       "      <th>Weight</th>\n",
       "      <th>Acceleration</th>\n",
       "      <th>Model Year</th>\n",
       "      <th>Origin</th>\n",
       "    </tr>\n",
       "  </thead>\n",
       "  <tbody>\n",
       "    <tr>\n",
       "      <th>0</th>\n",
       "      <td>18.0</td>\n",
       "      <td>8</td>\n",
       "      <td>307.0</td>\n",
       "      <td>130.0</td>\n",
       "      <td>3504.0</td>\n",
       "      <td>12.0</td>\n",
       "      <td>70</td>\n",
       "      <td>1</td>\n",
       "    </tr>\n",
       "    <tr>\n",
       "      <th>1</th>\n",
       "      <td>15.0</td>\n",
       "      <td>8</td>\n",
       "      <td>350.0</td>\n",
       "      <td>165.0</td>\n",
       "      <td>3693.0</td>\n",
       "      <td>11.5</td>\n",
       "      <td>70</td>\n",
       "      <td>1</td>\n",
       "    </tr>\n",
       "    <tr>\n",
       "      <th>2</th>\n",
       "      <td>18.0</td>\n",
       "      <td>8</td>\n",
       "      <td>318.0</td>\n",
       "      <td>150.0</td>\n",
       "      <td>3436.0</td>\n",
       "      <td>11.0</td>\n",
       "      <td>70</td>\n",
       "      <td>1</td>\n",
       "    </tr>\n",
       "    <tr>\n",
       "      <th>3</th>\n",
       "      <td>16.0</td>\n",
       "      <td>8</td>\n",
       "      <td>304.0</td>\n",
       "      <td>150.0</td>\n",
       "      <td>3433.0</td>\n",
       "      <td>12.0</td>\n",
       "      <td>70</td>\n",
       "      <td>1</td>\n",
       "    </tr>\n",
       "    <tr>\n",
       "      <th>4</th>\n",
       "      <td>17.0</td>\n",
       "      <td>8</td>\n",
       "      <td>302.0</td>\n",
       "      <td>140.0</td>\n",
       "      <td>3449.0</td>\n",
       "      <td>10.5</td>\n",
       "      <td>70</td>\n",
       "      <td>1</td>\n",
       "    </tr>\n",
       "  </tbody>\n",
       "</table>\n",
       "</div>"
      ],
      "text/plain": [
       "    MPG  Cylinders  Displacement  Horsepower  Weight  Acceleration  \\\n",
       "0  18.0          8         307.0       130.0  3504.0          12.0   \n",
       "1  15.0          8         350.0       165.0  3693.0          11.5   \n",
       "2  18.0          8         318.0       150.0  3436.0          11.0   \n",
       "3  16.0          8         304.0       150.0  3433.0          12.0   \n",
       "4  17.0          8         302.0       140.0  3449.0          10.5   \n",
       "\n",
       "   Model Year  Origin  \n",
       "0          70       1  \n",
       "1          70       1  \n",
       "2          70       1  \n",
       "3          70       1  \n",
       "4          70       1  "
      ]
     },
     "execution_count": 6,
     "metadata": {},
     "output_type": "execute_result"
    }
   ],
   "source": [
    "df = pd.read_csv('data/auto-mpg.csv')\n",
    "df.head()"
   ]
  },
  {
   "cell_type": "code",
   "execution_count": 12,
   "id": "be73899b",
   "metadata": {},
   "outputs": [
    {
     "data": {
      "text/html": [
       "<div>\n",
       "<style scoped>\n",
       "    .dataframe tbody tr th:only-of-type {\n",
       "        vertical-align: middle;\n",
       "    }\n",
       "\n",
       "    .dataframe tbody tr th {\n",
       "        vertical-align: top;\n",
       "    }\n",
       "\n",
       "    .dataframe thead th {\n",
       "        text-align: right;\n",
       "    }\n",
       "</style>\n",
       "<table border=\"1\" class=\"dataframe\">\n",
       "  <thead>\n",
       "    <tr style=\"text-align: right;\">\n",
       "      <th></th>\n",
       "      <th>MPG</th>\n",
       "      <th>Cylinders</th>\n",
       "      <th>Displacement</th>\n",
       "      <th>Horsepower</th>\n",
       "      <th>Weight</th>\n",
       "      <th>Acceleration</th>\n",
       "      <th>Model Year</th>\n",
       "      <th>Origin</th>\n",
       "    </tr>\n",
       "  </thead>\n",
       "  <tbody>\n",
       "    <tr>\n",
       "      <th>275</th>\n",
       "      <td>16.2</td>\n",
       "      <td>6</td>\n",
       "      <td>163.0</td>\n",
       "      <td>133.0</td>\n",
       "      <td>3410.0</td>\n",
       "      <td>15.8</td>\n",
       "      <td>78</td>\n",
       "      <td>2</td>\n",
       "    </tr>\n",
       "  </tbody>\n",
       "</table>\n",
       "</div>"
      ],
      "text/plain": [
       "      MPG  Cylinders  Displacement  Horsepower  Weight  Acceleration  \\\n",
       "275  16.2          6         163.0       133.0  3410.0          15.8   \n",
       "\n",
       "     Model Year  Origin  \n",
       "275          78       2  "
      ]
     },
     "execution_count": 12,
     "metadata": {},
     "output_type": "execute_result"
    }
   ],
   "source": [
    "x = df[(df['Origin'] != 1) & (df['Weight'] > 3000)]\n",
    "x.sort_values('MPG').head(1) # 78"
   ]
  },
  {
   "cell_type": "markdown",
   "id": "f0cbe866",
   "metadata": {},
   "source": [
    "# 問3\n",
    "\n",
    "以下のデータセットから、要件を満たす燃費効率（変数名：MPG）の中央値を整数（小数第一位を四捨五入）で答えなさい。\n",
    "\n",
    "データセット：auto_mpg.csv\n",
    "\n",
    "製造国（変数名：Origin）が日本 (3) であること\n",
    "\n",
    "動画で扱った Pandas のメソッドを使用すること"
   ]
  },
  {
   "cell_type": "code",
   "execution_count": 13,
   "id": "3bafadbd",
   "metadata": {},
   "outputs": [],
   "source": [
    "x = df[df['Origin'] == 3]"
   ]
  },
  {
   "cell_type": "code",
   "execution_count": 19,
   "id": "18167ad0",
   "metadata": {},
   "outputs": [
    {
     "data": {
      "text/plain": [
       "14     24.0\n",
       "18     27.0\n",
       "29     27.0\n",
       "31     25.0\n",
       "52     31.0\n",
       "       ... \n",
       "376    34.0\n",
       "377    38.0\n",
       "378    32.0\n",
       "379    38.0\n",
       "384    32.0\n",
       "Name: MPG, Length: 79, dtype: float64"
      ]
     },
     "execution_count": 19,
     "metadata": {},
     "output_type": "execute_result"
    }
   ],
   "source": [
    "mpg = x['MPG']\n",
    "mpg"
   ]
  },
  {
   "cell_type": "code",
   "execution_count": 20,
   "id": "da6a6609",
   "metadata": {},
   "outputs": [
    {
     "data": {
      "text/plain": [
       "31.6"
      ]
     },
     "execution_count": 20,
     "metadata": {},
     "output_type": "execute_result"
    }
   ],
   "source": [
    "mpg.median() # 31.6 -> 32 (中央値と平均値の違いがわからなかった)"
   ]
  },
  {
   "cell_type": "code",
   "execution_count": null,
   "id": "9d7368d2",
   "metadata": {},
   "outputs": [],
   "source": []
  }
 ],
 "metadata": {
  "kernelspec": {
   "display_name": "Python 3 (ipykernel)",
   "language": "python",
   "name": "python3"
  },
  "language_info": {
   "codemirror_mode": {
    "name": "ipython",
    "version": 3
   },
   "file_extension": ".py",
   "mimetype": "text/x-python",
   "name": "python",
   "nbconvert_exporter": "python",
   "pygments_lexer": "ipython3",
   "version": "3.10.4"
  }
 },
 "nbformat": 4,
 "nbformat_minor": 5
}
